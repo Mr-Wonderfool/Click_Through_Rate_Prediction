{
  "nbformat": 4,
  "nbformat_minor": 0,
  "metadata": {
    "colab": {
      "provenance": []
    },
    "kernelspec": {
      "name": "python3",
      "display_name": "Python 3"
    },
    "language_info": {
      "name": "python"
    }
  },
  "cells": [
    {
      "cell_type": "code",
      "source": [
        "import scipy\n",
        "print(scipy.__version__)\n",
        "from google.colab import drive\n",
        "drive.mount('/content/drive')\n",
        "from scipy.io import loadmat\n",
        "# 加载MATLAB文件\n",
        "filename = '/content/drive/MyDrive/'"
      ],
      "metadata": {
        "colab": {
          "base_uri": "https://localhost:8080/"
        },
        "id": "n8VHL4SdQl7N",
        "outputId": "35d760ce-a74e-4829-ccd1-f1ecfa7a4b55"
      },
      "execution_count": null,
      "outputs": [
        {
          "output_type": "stream",
          "name": "stdout",
          "text": [
            "1.11.4\n",
            "Mounted at /content/drive\n"
          ]
        }
      ]
    },
    {
      "cell_type": "code",
      "execution_count": null,
      "metadata": {
        "id": "g2E1kulvHpiq",
        "colab": {
          "base_uri": "https://localhost:8080/",
          "height": 654
        },
        "outputId": "c3cc9832-e182-435b-8a0e-f4b02cdc7eb7"
      },
      "outputs": [
        {
          "output_type": "stream",
          "name": "stderr",
          "text": [
            "<ipython-input-2-e2c40dc38657>:20: FutureWarning: \n",
            "\n",
            "Passing `palette` without assigning `hue` is deprecated and will be removed in v0.14.0. Assign the `x` variable to `hue` and set `legend=False` for the same effect.\n",
            "\n",
            "  sns.barplot(x=clicks.index, y=clicks.values, palette='viridis')\n"
          ]
        },
        {
          "output_type": "display_data",
          "data": {
            "text/plain": [
              "<Figure size 800x600 with 1 Axes>"
            ],
            "image/png": "[encoded data removed]"
          },
          "metadata": {}
        }
      ],
      "source": [
        "import pandas as pd\n",
        "from sklearn.model_selection import train_test_split\n",
        "from sklearn.tree import DecisionTreeClassifier\n",
        "from sklearn.metrics import accuracy_score, f1_score, confusion_matrix\n",
        "import seaborn as sns\n",
        "import matplotlib.pyplot as plt\n",
        "\n",
        "# 加载数据\n",
        "file_path = filename + 'click_rate/train.csv'\n",
        "data = pd.read_csv(file_path)\n",
        "\n",
        "# 删除有空值的行\n",
        "data_cleaned = data.dropna()\n",
        "\n",
        "# 数据可视化 - 点击率的占比\n",
        "clicks = data_cleaned['isClick'].value_counts(normalize=True)\n",
        "\n",
        "# 绘制点击率分布\n",
        "plt.figure(figsize=(8, 6))\n",
        "sns.barplot(x=clicks.index, y=clicks.values, palette='viridis')\n",
        "plt.title('Click-through Rate Distribution')\n",
        "plt.xlabel('Click (0: No, 1: Yes)')\n",
        "plt.ylabel('Proportion')\n",
        "plt.show()\n"
      ]
    },
    {
      "cell_type": "code",
      "source": [
        "data.shape\n",
        "print(data[:100])"
      ],
      "metadata": {
        "colab": {
          "base_uri": "https://localhost:8080/"
        },
        "id": "bWvtR1k4SD85",
        "outputId": "12293ac7-9a87-4141-f2ac-0e228a7c5ed4"
      },
      "execution_count": null,
      "outputs": [
        {
          "output_type": "stream",
          "name": "stdout",
          "text": [
            "    id         date  user_id  product  campaign_id  webpage_id  \\\n",
            "0    0  07-02 00:00        0        0            0           0   \n",
            "1    1  07-02 00:00        1        0            1           1   \n",
            "2    2  07-02 00:00        1        0            0           0   \n",
            "3    3  07-02 00:00        2        1            0           0   \n",
            "4    4  07-02 00:01        3        0            2           2   \n",
            "..  ..          ...      ...      ...          ...         ...   \n",
            "95  95  07-02 00:11       60        8            4           3   \n",
            "96  96  07-02 00:11       60        1            4           3   \n",
            "97  97  07-02 00:11       61        0            0           0   \n",
            "98  98  07-02 00:11       62        0            3           0   \n",
            "99  99  07-02 00:12       63        8            4           3   \n",
            "\n",
            "    product_category_id  user_group_id  gender  age_level  user_depth  var_1  \\\n",
            "0                     0           10.0  Female        4.0         3.0      0   \n",
            "1                     1            8.0  Female        2.0         2.0      0   \n",
            "2                     0            8.0  Female        2.0         2.0      0   \n",
            "3                     2            3.0    Male        3.0         3.0      1   \n",
            "4                     2            2.0    Male        2.0         3.0      1   \n",
            "..                  ...            ...     ...        ...         ...    ...   \n",
            "95                    4            2.0    Male        2.0         3.0      1   \n",
            "96                    4            2.0    Male        2.0         3.0      1   \n",
            "97                    0            3.0    Male        3.0         3.0      0   \n",
            "98                    2            4.0    Male        4.0         3.0      1   \n",
            "99                    4            9.0  Female        3.0         3.0      1   \n",
            "\n",
            "    isClick  \n",
            "0         0  \n",
            "1         0  \n",
            "2         0  \n",
            "3         0  \n",
            "4         0  \n",
            "..      ...  \n",
            "95        0  \n",
            "96        0  \n",
            "97        0  \n",
            "98        0  \n",
            "99        0  \n",
            "\n",
            "[100 rows x 13 columns]\n"
          ]
        }
      ]
    },
    {
      "cell_type": "code",
      "source": [
        "def calculate_f1(y_true, y_pred):\n",
        "    # 计算混淆矩阵\n",
        "    cm = confusion_matrix(y_true, y_pred)\n",
        "\n",
        "    # 提取TP, FP, FN, TN\n",
        "    TP = cm[1, 1]\n",
        "    FP = cm[0, 1]\n",
        "    FN = cm[1, 0]\n",
        "\n",
        "    # 计算Precision和Recall\n",
        "    precision = TP / (TP + FP) if (TP + FP) > 0 else 0\n",
        "    recall = TP / (TP + FN) if (TP + FN) > 0 else 0\n",
        "\n",
        "    # 计算F1得分\n",
        "    f1 = 2 * (precision * recall) / (precision + recall) if (precision + recall) > 0 else 0\n",
        "    return f1"
      ],
      "metadata": {
        "id": "i3SXfmAJTmDc"
      },
      "execution_count": null,
      "outputs": []
    },
    {
      "cell_type": "code",
      "source": [
        "# 移除 'date' 列以减少内存使用\n",
        "data_reduced = data_cleaned.drop(columns=['date'])\n",
        "\n",
        "# 将分类变量转换为哑变量\n",
        "data_reduced = pd.get_dummies(data_reduced, columns=['gender'])\n",
        "\n",
        "# 定义特征和目标变量\n",
        "X = data_reduced.drop(columns=['isClick', 'id'])\n",
        "print(X)\n",
        "y = data_reduced['isClick']\n",
        "\n",
        "# 将数据集分为训练集和测试集\n",
        "X_train, X_test, y_train, y_test = train_test_split(X, y, test_size=0.25, random_state=42)\n",
        "\n",
        "# 初始化并训练决策树模型\n",
        "clf = DecisionTreeClassifier(random_state=42)\n",
        "clf.fit(X_train, y_train)\n",
        "\n",
        "# 在测试集上进行预测\n",
        "y_pred = clf.predict(X_test)\n",
        "\n",
        "# 计算模型的准确率\n",
        "accuracy = accuracy_score(y_test, y_pred)\n",
        "print(f'模型的准确率: {accuracy}')\n",
        "\n",
        "# 计算F1得分\n",
        "f1 = calculate_f1(y_test, y_pred)\n",
        "print(f'F1得分: {f1}')\n",
        "\n",
        "# 计算混淆矩阵\n",
        "conf_matrix = confusion_matrix(y_test, y_pred)\n",
        "\n",
        "# 绘制混淆矩阵\n",
        "plt.figure(figsize=(8, 6))\n",
        "sns.heatmap(conf_matrix, annot=True, fmt='d', cmap='Blues')\n",
        "plt.xlabel('prediction')\n",
        "plt.ylabel('truth')\n",
        "plt.title('confusion_matrix')\n",
        "plt.show()"
      ],
      "metadata": {
        "colab": {
          "base_uri": "https://localhost:8080/",
          "height": 1000
        },
        "id": "t3Z5eMgwPpFv",
        "outputId": "1575ae3b-fe65-4f1c-87ef-dceef87741ae"
      },
      "execution_count": null,
      "outputs": [
        {
          "output_type": "stream",
          "name": "stdout",
          "text": [
            "        user_id  product  campaign_id  webpage_id  product_category_id  \\\n",
            "0             0        0            0           0                    0   \n",
            "1             1        0            1           1                    1   \n",
            "2             1        0            0           0                    0   \n",
            "3             2        1            0           0                    2   \n",
            "4             3        0            2           2                    2   \n",
            "...         ...      ...          ...         ...                  ...   \n",
            "391820    44038        1            9           8                    0   \n",
            "391821   135658        3            9           8                    1   \n",
            "391822   135658        3            9           8                    1   \n",
            "391823    39562        0            3           0                    1   \n",
            "391824    39562        0            0           0                    0   \n",
            "\n",
            "        user_group_id  age_level  user_depth  var_1  gender_Female  \\\n",
            "0                10.0        4.0         3.0      0           True   \n",
            "1                 8.0        2.0         2.0      0           True   \n",
            "2                 8.0        2.0         2.0      0           True   \n",
            "3                 3.0        3.0         3.0      1          False   \n",
            "4                 2.0        2.0         3.0      1          False   \n",
            "...               ...        ...         ...    ...            ...   \n",
            "391820            3.0        3.0         2.0      1          False   \n",
            "391821            5.0        5.0         3.0      1          False   \n",
            "391822            5.0        5.0         3.0      1          False   \n",
            "391823            1.0        1.0         3.0      0          False   \n",
            "391824            1.0        1.0         3.0      0          False   \n",
            "\n",
            "        gender_Male  \n",
            "0             False  \n",
            "1             False  \n",
            "2             False  \n",
            "3              True  \n",
            "4              True  \n",
            "...             ...  \n",
            "391820         True  \n",
            "391821         True  \n",
            "391822         True  \n",
            "391823         True  \n",
            "391824         True  \n",
            "\n",
            "[376082 rows x 11 columns]\n",
            "模型的准确率: 0.8821114431882239\n",
            "F1得分: 0.08517662594915813\n"
          ]
        },
        {
          "output_type": "display_data",
          "data": {
            "text/plain": [
              "<Figure size 800x600 with 2 Axes>"
            ],
            "image/png": "[encoded data removed]"
          },
          "metadata": {}
        }
      ]
    }
  ]
}