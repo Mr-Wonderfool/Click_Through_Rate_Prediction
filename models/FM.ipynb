{
 "cells": [
  {
   "cell_type": "code",
   "execution_count": null,
   "metadata": {},
   "outputs": [],
   "source": [
    "%load_ext autoreload\n",
    "%autoreload 2\n",
    "import numpy as np\n",
    "import pandas as pd\n",
    "# import seaborn as sns\n",
    "import matplotlib.pyplot as plt\n",
    "from utils.utils import F1_accuracy, thresholding\n",
    "\n",
    "plt.style.use('ggplot')\n",
    "\n",
    "import warnings as w\n",
    "w.filterwarnings('ignore')"
   ]
  },
  {
   "cell_type": "code",
   "execution_count": null,
   "metadata": {},
   "outputs": [],
   "source": [
    "train = pd.read_csv(\"../data/test.csv\").drop(columns=['id', 'user_id'])\n",
    "train.replace('Male', 1., inplace=True)\n",
    "train.replace('Female', 0., inplace=True)\n",
    "train.dropna(inplace=True)\n",
    "train['date'] = pd.to_datetime(train['date'], format=\"%m-%d %H:%M\")\n",
    "train['date'] = train['date'].dt.hour\n",
    "train.head()"
   ]
  },
  {
   "cell_type": "code",
   "execution_count": null,
   "metadata": {},
   "outputs": [],
   "source": [
    "# plt.figure(figsize=(15,8))\n",
    "# sns.countplot(x='product',hue='isClick',data=train)"
   ]
  },
  {
   "cell_type": "code",
   "execution_count": null,
   "metadata": {},
   "outputs": [],
   "source": [
    "from sklearn.preprocessing import LabelEncoder\n",
    "from deepctr.models import DeepFM\n",
    "from deepctr.feature_column import SparseFeat, get_feature_names\n",
    "from sklearn.model_selection import train_test_split"
   ]
  },
  {
   "cell_type": "code",
   "execution_count": null,
   "metadata": {},
   "outputs": [],
   "source": [
    "encoder = LabelEncoder()\n",
    "data_all = train\n",
    "sparse_features = train.columns\n",
    "target = ['isClick']\n",
    "for feat in sparse_features:\n",
    "    data_all[feat] = encoder.fit_transform(data_all[feat])"
   ]
  },
  {
   "cell_type": "code",
   "execution_count": null,
   "metadata": {},
   "outputs": [],
   "source": [
    "sparse_features.get_loc(target[0])"
   ]
  },
  {
   "cell_type": "code",
   "execution_count": null,
   "metadata": {},
   "outputs": [],
   "source": [
    "sparse_features = sparse_features.delete(sparse_features.get_loc(target[0]))\n",
    "sparse_features"
   ]
  },
  {
   "cell_type": "code",
   "execution_count": null,
   "metadata": {},
   "outputs": [],
   "source": [
    "train_, validate_ = train_test_split(data_all, test_size=.2, random_state=0)"
   ]
  },
  {
   "cell_type": "markdown",
   "metadata": {},
   "source": [
    "##### change sparse feature to network input"
   ]
  },
  {
   "cell_type": "code",
   "execution_count": null,
   "metadata": {},
   "outputs": [],
   "source": [
    "fixlen_feature_columns = [SparseFeat(feat, vocabulary_size=train_[feat].max()+1, embedding_dim=4)\n",
    "            for feat in sparse_features]"
   ]
  },
  {
   "cell_type": "markdown",
   "metadata": {},
   "source": [
    "##### Current deep neural network input (DNN feature) and factorization machine input (linear feature) is the same\n",
    "- consider separating sparse and dense features"
   ]
  },
  {
   "cell_type": "code",
   "execution_count": null,
   "metadata": {},
   "outputs": [],
   "source": [
    "dnn_feature_columns = fixlen_feature_columns\n",
    "linear_feature_columns = fixlen_feature_columns\n",
    "\n",
    "feature_names = get_feature_names(linear_feature_columns + dnn_feature_columns)"
   ]
  },
  {
   "cell_type": "markdown",
   "metadata": {},
   "source": [
    "##### actually training the model"
   ]
  },
  {
   "cell_type": "code",
   "execution_count": null,
   "metadata": {},
   "outputs": [],
   "source": [
    "train_model_input = {name: train_[name] for name in feature_names}\n",
    "test_model_input = {name: validate_[name] for name in feature_names}\n",
    "# TODO: dropout necessary for sparse features?\n",
    "model = DeepFM(linear_feature_columns, dnn_feature_columns, task='binary')\n",
    "model.compile(\"adam\", \"binary_crossentropy\", metrics=['binary_crossentropy'])"
   ]
  },
  {
   "cell_type": "code",
   "execution_count": null,
   "metadata": {},
   "outputs": [],
   "source": [
    "from tensorflow.keras.callbacks import ModelCheckpoint, EarlyStopping\n",
    "checkpoints = ModelCheckpoint(filepath='../model_data/Deep_fm.h5', save_best_only=True)\n",
    "early_stopping = EarlyStopping(monitor='val_loss', patience=5, restore_best_weights=True)"
   ]
  },
  {
   "cell_type": "code",
   "execution_count": null,
   "metadata": {},
   "outputs": [],
   "source": [
    "history = model.fit(\n",
    "        train_model_input, train_[target].values, \n",
    "        batch_size=256, \n",
    "        epochs=15, \n",
    "        verbose=2, # change to 1 for bar information\n",
    "        validation_split=.2,\n",
    "        callbacks=[checkpoints, early_stopping]\n",
    "    )"
   ]
  },
  {
   "cell_type": "code",
   "execution_count": null,
   "metadata": {},
   "outputs": [],
   "source": [
    "from tensorflow.keras.models import load_model\n",
    "from deepctr.layers import Linear, DNN, FM, NoMask, _Add, Concat, PredictionLayer\n",
    "pretrained = load_model('../model_data/Deep_fm.h5', custom_objects=\n",
    "    {'Concat': Concat, 'Linear': Linear, 'DNN': DNN, 'NoMask': NoMask, 'FM': FM, \n",
    "    '_Add': _Add, 'PredictionLayer': PredictionLayer})\n",
    "pretrained.summary()"
   ]
  },
  {
   "cell_type": "code",
   "execution_count": null,
   "metadata": {},
   "outputs": [],
   "source": [
    "prediction = model.predict(test_model_input)\n",
    "true = validate_[target].values"
   ]
  },
  {
   "cell_type": "code",
   "execution_count": null,
   "metadata": {},
   "outputs": [],
   "source": [
    "out = thresholding(prediction, .5)\n",
    "F1, acc = F1_accuracy(out, true)"
   ]
  },
  {
   "cell_type": "code",
   "execution_count": null,
   "metadata": {},
   "outputs": [],
   "source": [
    "for i in range(len(out)):\n",
    "    print(f\"Ground truth: {true[i]}, predicted as: {out[i]}\")"
   ]
  },
  {
   "cell_type": "code",
   "execution_count": 2,
   "metadata": {},
   "outputs": [],
   "source": [
    "%load_ext autoreload\n",
    "%autoreload 2\n",
    "import pandas as pd\n",
    "import numpy as np\n",
    "from imblearn.over_sampling import SMOTE"
   ]
  },
  {
   "cell_type": "markdown",
   "metadata": {},
   "source": [
    "##### create balanced data\n",
    "- if **data imbalance is the cause of the problem**, then refer to `imblearn.SMOTE` (Synthetic Minority Over-sampling Technique) for **better balancing data** (use interpolation instead)\n",
    "- else might be model problem\n",
    "- currently negative : positive = 1 : 1\n",
    "- **observations: before adjusting data, all predicted values are small after sigmoid, after adjusting data, values tend to goto 0.5**"
   ]
  },
  {
   "cell_type": "code",
   "execution_count": null,
   "metadata": {},
   "outputs": [],
   "source": [
    "data = pd.read_csv('../data/train.csv').drop(columns=['id', 'user_id'])\n",
    "columns = data.columns\n",
    "data.replace('Male', 1., inplace=True)\n",
    "data.replace('Female', 0., inplace=True)\n",
    "data.dropna(inplace=True)\n",
    "data['date'] = pd.to_datetime(data['date'], format=\"%Y/%m/%d %H:%M\")\n",
    "data['date'] = data['date'].dt.hour"
   ]
  },
  {
   "cell_type": "code",
   "execution_count": null,
   "metadata": {},
   "outputs": [],
   "source": [
    "sm = SMOTE()\n",
    "data = data.values\n",
    "labels = data[..., -1]\n",
    "train = data[..., :-1]\n",
    "X_res, y_res = sm.fit_resample(train, labels)"
   ]
  },
  {
   "cell_type": "code",
   "execution_count": null,
   "metadata": {},
   "outputs": [],
   "source": [
    "print(f\"Before transform: {labels.shape}, after transform: {y_res.shape}\")"
   ]
  },
  {
   "cell_type": "code",
   "execution_count": null,
   "metadata": {},
   "outputs": [],
   "source": [
    "dataframe = pd.DataFrame(data_all, columns=columns)\n",
    "dataframe.to_csv('../data/balanced_data_1_1.csv', index=False)"
   ]
  },
  {
   "cell_type": "code",
   "execution_count": null,
   "metadata": {},
   "outputs": [],
   "source": [
    "sm = SMOTE(random_state=42)"
   ]
  },
  {
   "cell_type": "code",
   "execution_count": null,
   "metadata": {},
   "outputs": [],
   "source": [
    "test_label = np.array([0] * 90 + [1] * 10)\n",
    "test_sample = np.random.rand(100, 2)\n",
    "X_res, y_res = sm.fit_resample(test_sample, test_label)"
   ]
  },
  {
   "cell_type": "code",
   "execution_count": 3,
   "metadata": {},
   "outputs": [
    {
     "name": "stdout",
     "output_type": "stream",
     "text": [
      "The autoreload extension is already loaded. To reload it, use:\n",
      "  %reload_ext autoreload\n"
     ]
    }
   ],
   "source": [
    "%load_ext autoreload\n",
    "%autoreload 2\n",
    "import numpy as np\n",
    "import pandas as pd\n",
    "from imblearn.over_sampling import SMOTE"
   ]
  },
  {
   "cell_type": "code",
   "execution_count": 32,
   "metadata": {},
   "outputs": [],
   "source": [
    "def balance_data(data: pd.DataFrame):\n",
    "    \"\"\"\n",
    "    Perform Synthetic Minority Over-Sampling (SMOTE) Technique \n",
    "    to balance positive and negative data\n",
    "\n",
    "    Returns\n",
    "    -------\n",
    "    balanced_train: pd.DataFrame\n",
    "        hstack the return value from SMOTE.fit_transform (after shuffling)\n",
    "        and form dataframe with the original columns\n",
    "    \"\"\"\n",
    "    data_all = data.values\n",
    "    train, labels = data_all[..., :-1], data_all[..., -1]\n",
    "    sm = SMOTE(random_state=42)\n",
    "    X_res, y_res = sm.fit_resample(train, labels)\n",
    "    combined = np.array(np.hstack((X_res, y_res[:, np.newaxis])), dtype=np.int32)\n",
    "    np.random.shuffle(combined)\n",
    "    balanced_train = pd.DataFrame(combined, columns=data.columns)\n",
    "    return balanced_train"
   ]
  },
  {
   "cell_type": "code",
   "execution_count": 33,
   "metadata": {},
   "outputs": [],
   "source": [
    "data = pd.read_csv('../data/train.csv').drop(columns=['id', 'user_id'])\n",
    "data.replace('Male', 1., inplace=True)\n",
    "data.replace('Female', 0., inplace=True)\n",
    "data.dropna(inplace=True)\n",
    "data['date'] = pd.to_datetime(data['date'], format=\"%Y/%m/%d %H:%M\")\n",
    "data['date'] = data['date'].dt.hour"
   ]
  },
  {
   "cell_type": "code",
   "execution_count": 34,
   "metadata": {},
   "outputs": [],
   "source": [
    "balanced_data = balance_data(data)"
   ]
  },
  {
   "cell_type": "code",
   "execution_count": 36,
   "metadata": {},
   "outputs": [
    {
     "data": {
      "text/plain": [
       "280104"
      ]
     },
     "execution_count": 36,
     "metadata": {},
     "output_type": "execute_result"
    }
   ],
   "source": [
    "data_value = balanced_data.values\n",
    "data_label = data_value[..., -1]\n",
    "np.count_nonzero(data_label)"
   ]
  }
 ],
 "metadata": {
  "kernelspec": {
   "display_name": "base",
   "language": "python",
   "name": "python3"
  },
  "language_info": {
   "codemirror_mode": {
    "name": "ipython",
    "version": 3
   },
   "file_extension": ".py",
   "mimetype": "text/x-python",
   "name": "python",
   "nbconvert_exporter": "python",
   "pygments_lexer": "ipython3",
   "version": "3.7.16"
  }
 },
 "nbformat": 4,
 "nbformat_minor": 2
}
